{
 "cells": [
  {
   "cell_type": "markdown",
   "id": "d1293186",
   "metadata": {},
   "source": [
    "%%capture\n",
    "!pip install import-ipynb\n",
    "!pip install textblob\n",
    "!pip install spacy\n",
    "!pip install nltk\n",
    "!pip install -U sklearn\n",
    "!pip install googletrans==3.1.0a0"
   ]
  },
  {
   "cell_type": "code",
   "execution_count": 1,
   "id": "ancient-creek",
   "metadata": {},
   "outputs": [
    {
     "name": "stdout",
     "output_type": "stream",
     "text": [
      "importing Jupyter notebook from Preprocessing.ipynb\n"
     ]
    },
    {
     "name": "stderr",
     "output_type": "stream",
     "text": [
      "[nltk_data] Downloading package punkt to /home/greca/nltk_data...\n",
      "[nltk_data]   Package punkt is already up-to-date!\n"
     ]
    }
   ],
   "source": [
    "import pandas as pd\n",
    "import import_ipynb\n",
    "import numpy as np\n",
    "import spacy\n",
    "import os\n",
    "import re\n",
    "import nltk\n",
    "\n",
    "from Preprocessing import *\n",
    "from leia import SentimentIntensityAnalyzer\n",
    "from textblob import TextBlob\n",
    "from textblob.classifiers import NaiveBayesClassifier\n",
    "from sklearn.metrics import accuracy_score\n",
    "from googletrans import Translator\n",
    "\n",
    "translator = Translator(service_urls=['translate.googleapis.com'])\n",
    "nltk.download('punkt')\n",
    "nlp = spacy.load('pt_core_news_sm')"
   ]
  },
  {
   "cell_type": "markdown",
   "id": "a939468c",
   "metadata": {},
   "source": [
    "## Models"
   ]
  },
  {
   "cell_type": "markdown",
   "id": "e3c723cf",
   "metadata": {},
   "source": [
    "### LeIA"
   ]
  },
  {
   "cell_type": "code",
   "execution_count": 2,
   "id": "a2ed0f35",
   "metadata": {},
   "outputs": [],
   "source": [
    "analyzer = SentimentIntensityAnalyzer()\n",
    "def leia(text):\n",
    "    text = str(text)\n",
    "    result = analyzer.polarity_scores(text)\n",
    "    \n",
    "    #analisa a frase utilizando o compound\n",
    "    if result['compound'] >= 0.05:\n",
    "        return 'positivo'\n",
    "    elif result['compound'] <= -0.05:\n",
    "        return 'negativo'\n",
    "    else:\n",
    "        return 'neutro'"
   ]
  },
  {
   "cell_type": "markdown",
   "id": "7bd81173",
   "metadata": {},
   "source": [
    "### TextBlob + ReLi"
   ]
  },
  {
   "cell_type": "code",
   "execution_count": 3,
   "id": "f9d2e29c",
   "metadata": {},
   "outputs": [],
   "source": [
    "def textblob(sentence):\n",
    "    sentence = str(sentence)\n",
    "    blob = TextBlob(sentence)\n",
    "    result = 0\n",
    "    \n",
    "    #traduz o texto (em português) para inglês\n",
    "    translation = translator.translate(sentence, src='pt', dest='en')\n",
    "    translation = translation.text\n",
    "    translation = TextBlob(translation)\n",
    "    result = translation.sentiment.polarity\n",
    "        \n",
    "    if result > 0:\n",
    "        return 'positivo'\n",
    "    elif result < 0:\n",
    "        return 'negativo'\n",
    "    else:\n",
    "        return 'neutro'"
   ]
  },
  {
   "cell_type": "markdown",
   "id": "47993bef",
   "metadata": {},
   "source": [
    "### OpLexicon"
   ]
  },
  {
   "cell_type": "code",
   "execution_count": 4,
   "id": "558294b6",
   "metadata": {},
   "outputs": [],
   "source": [
    "with open('lexico_v3.0.txt', 'r') as f:\n",
    "    lines = f.readlines()\n",
    "\n",
    "lines = [str(x.strip()) for x in lines]\n",
    "pol_dict = {}\n",
    "\n",
    "for line in lines:\n",
    "    word, _, pol, _ = line.split(',')\n",
    "    \n",
    "    if word not in pol_dict.keys():\n",
    "        pol_dict[word] = pol"
   ]
  },
  {
   "cell_type": "code",
   "execution_count": 5,
   "id": "0f3a6c1e",
   "metadata": {},
   "outputs": [],
   "source": [
    "def oplexion(text):\n",
    "    text = str(text)\n",
    "    doc = nlp(text)\n",
    "    pol = 0\n",
    "    \n",
    "    for token in doc:\n",
    "        if token.text in pol_dict.keys():\n",
    "            if token.pos_ == 'VERB':\n",
    "                if token.lemma_ in pol_dict.keys():\n",
    "                    pol += int(pol_dict[str(token.lemma_)])\n",
    "                else:\n",
    "                    pol += int(pol_dict[str(token.text)])\n",
    "            else:\n",
    "                pol += int(pol_dict[str(token.text)])\n",
    "        else:\n",
    "            pol += 0\n",
    "        \n",
    "    if pol > 0:\n",
    "        return 'positivo'\n",
    "    elif pol < 0:\n",
    "        return 'negativo'\n",
    "    else:\n",
    "        return 'neutro'"
   ]
  },
  {
   "cell_type": "markdown",
   "id": "8a33f64b",
   "metadata": {},
   "source": [
    "### SentiLex"
   ]
  },
  {
   "cell_type": "code",
   "execution_count": 6,
   "id": "1124a27b",
   "metadata": {},
   "outputs": [],
   "source": [
    "with open('SentiLex-lem-PT01.txt', 'r') as f:\n",
    "    lines = f.readlines()\n",
    "\n",
    "lines = [str(x.strip()) for x in lines]\n",
    "pol_dict = {}\n",
    "\n",
    "for line in lines:\n",
    "    word, infos = line.split('.')\n",
    "    pol = infos.split(';')\n",
    "    pol = pol[3]\n",
    "    pol = pol[4:]\n",
    "    \n",
    "    if word not in pol_dict.keys():\n",
    "        pol_dict[word] = pol"
   ]
  },
  {
   "cell_type": "code",
   "execution_count": 7,
   "id": "77400c5e",
   "metadata": {},
   "outputs": [],
   "source": [
    "def sentilex(text):\n",
    "    text = str(text)\n",
    "    doc = nlp(text)\n",
    "    pol = 0\n",
    "    \n",
    "    for token in doc:\n",
    "        try:\n",
    "            if token.pos_ == 'VERB':\n",
    "                pol += int(pol_dict[str(token.lemma_)])\n",
    "            else:\n",
    "                pol += int(pol_dict[str(token.text)])\n",
    "        except KeyError:\n",
    "            pol += 0\n",
    "        \n",
    "    if pol > 0:\n",
    "        return 'positivo'\n",
    "    elif pol < 0:\n",
    "        return 'negativo'\n",
    "    else:\n",
    "        return 'neutro'"
   ]
  },
  {
   "cell_type": "code",
   "execution_count": 8,
   "id": "helpful-clerk",
   "metadata": {},
   "outputs": [
    {
     "data": {
      "text/html": [
       "<div>\n",
       "<style scoped>\n",
       "    .dataframe tbody tr th:only-of-type {\n",
       "        vertical-align: middle;\n",
       "    }\n",
       "\n",
       "    .dataframe tbody tr th {\n",
       "        vertical-align: top;\n",
       "    }\n",
       "\n",
       "    .dataframe thead th {\n",
       "        text-align: right;\n",
       "    }\n",
       "</style>\n",
       "<table border=\"1\" class=\"dataframe\">\n",
       "  <thead>\n",
       "    <tr style=\"text-align: right;\">\n",
       "      <th></th>\n",
       "      <th>id</th>\n",
       "      <th>tweet_text</th>\n",
       "      <th>tweet_date</th>\n",
       "      <th>sentiment</th>\n",
       "      <th>query_used</th>\n",
       "    </tr>\n",
       "  </thead>\n",
       "  <tbody>\n",
       "    <tr>\n",
       "      <th>0</th>\n",
       "      <td>1031761728445530112</td>\n",
       "      <td>@Tixaa23 14 para eu ir :)</td>\n",
       "      <td>Tue Aug 21 04:35:39 +0000 2018</td>\n",
       "      <td>Positivo</td>\n",
       "      <td>:)</td>\n",
       "    </tr>\n",
       "    <tr>\n",
       "      <th>1</th>\n",
       "      <td>1031761040462278656</td>\n",
       "      <td>@drexalvarez O meu like eu já dei na época :)</td>\n",
       "      <td>Tue Aug 21 04:32:55 +0000 2018</td>\n",
       "      <td>Positivo</td>\n",
       "      <td>:)</td>\n",
       "    </tr>\n",
       "    <tr>\n",
       "      <th>2</th>\n",
       "      <td>1031760962372689920</td>\n",
       "      <td>Eu só queria conseguir comer alguma coisa pra ...</td>\n",
       "      <td>Tue Aug 21 04:32:37 +0000 2018</td>\n",
       "      <td>Positivo</td>\n",
       "      <td>:)</td>\n",
       "    </tr>\n",
       "    <tr>\n",
       "      <th>3</th>\n",
       "      <td>1031760948250456066</td>\n",
       "      <td>:D que lindo dia !</td>\n",
       "      <td>Tue Aug 21 04:32:33 +0000 2018</td>\n",
       "      <td>Positivo</td>\n",
       "      <td>:)</td>\n",
       "    </tr>\n",
       "    <tr>\n",
       "      <th>4</th>\n",
       "      <td>1031760895985246208</td>\n",
       "      <td>@Primo_Resmungao Pq da pr jeito!!é uma \"oferta...</td>\n",
       "      <td>Tue Aug 21 04:32:21 +0000 2018</td>\n",
       "      <td>Positivo</td>\n",
       "      <td>:)</td>\n",
       "    </tr>\n",
       "  </tbody>\n",
       "</table>\n",
       "</div>"
      ],
      "text/plain": [
       "                    id                                         tweet_text  \\\n",
       "0  1031761728445530112                          @Tixaa23 14 para eu ir :)   \n",
       "1  1031761040462278656      @drexalvarez O meu like eu já dei na época :)   \n",
       "2  1031760962372689920  Eu só queria conseguir comer alguma coisa pra ...   \n",
       "3  1031760948250456066                                 :D que lindo dia !   \n",
       "4  1031760895985246208  @Primo_Resmungao Pq da pr jeito!!é uma \"oferta...   \n",
       "\n",
       "                       tweet_date sentiment query_used  \n",
       "0  Tue Aug 21 04:35:39 +0000 2018  Positivo         :)  \n",
       "1  Tue Aug 21 04:32:55 +0000 2018  Positivo         :)  \n",
       "2  Tue Aug 21 04:32:37 +0000 2018  Positivo         :)  \n",
       "3  Tue Aug 21 04:32:33 +0000 2018  Positivo         :)  \n",
       "4  Tue Aug 21 04:32:21 +0000 2018  Positivo         :)  "
      ]
     },
     "execution_count": 8,
     "metadata": {},
     "output_type": "execute_result"
    }
   ],
   "source": [
    "data = pd.read_csv('data.csv')\n",
    "data.head()"
   ]
  },
  {
   "cell_type": "code",
   "execution_count": 9,
   "id": "figured-murray",
   "metadata": {},
   "outputs": [
    {
     "data": {
      "text/plain": [
       "(785814, 5)"
      ]
     },
     "execution_count": 9,
     "metadata": {},
     "output_type": "execute_result"
    }
   ],
   "source": [
    "data.shape"
   ]
  },
  {
   "cell_type": "code",
   "execution_count": 10,
   "id": "norman-midnight",
   "metadata": {},
   "outputs": [
    {
     "data": {
      "text/html": [
       "<div>\n",
       "<style scoped>\n",
       "    .dataframe tbody tr th:only-of-type {\n",
       "        vertical-align: middle;\n",
       "    }\n",
       "\n",
       "    .dataframe tbody tr th {\n",
       "        vertical-align: top;\n",
       "    }\n",
       "\n",
       "    .dataframe thead th {\n",
       "        text-align: right;\n",
       "    }\n",
       "</style>\n",
       "<table border=\"1\" class=\"dataframe\">\n",
       "  <thead>\n",
       "    <tr style=\"text-align: right;\">\n",
       "      <th></th>\n",
       "      <th>text</th>\n",
       "      <th>target</th>\n",
       "    </tr>\n",
       "  </thead>\n",
       "  <tbody>\n",
       "    <tr>\n",
       "      <th>0</th>\n",
       "      <td>@Tixaa23 14 para eu ir :)</td>\n",
       "      <td>positivo</td>\n",
       "    </tr>\n",
       "    <tr>\n",
       "      <th>1</th>\n",
       "      <td>@drexalvarez O meu like eu já dei na época :)</td>\n",
       "      <td>positivo</td>\n",
       "    </tr>\n",
       "    <tr>\n",
       "      <th>2</th>\n",
       "      <td>Eu só queria conseguir comer alguma coisa pra ...</td>\n",
       "      <td>positivo</td>\n",
       "    </tr>\n",
       "    <tr>\n",
       "      <th>3</th>\n",
       "      <td>:D que lindo dia !</td>\n",
       "      <td>positivo</td>\n",
       "    </tr>\n",
       "    <tr>\n",
       "      <th>4</th>\n",
       "      <td>@Primo_Resmungao Pq da pr jeito!!é uma \"oferta...</td>\n",
       "      <td>positivo</td>\n",
       "    </tr>\n",
       "  </tbody>\n",
       "</table>\n",
       "</div>"
      ],
      "text/plain": [
       "                                                text    target\n",
       "0                          @Tixaa23 14 para eu ir :)  positivo\n",
       "1      @drexalvarez O meu like eu já dei na época :)  positivo\n",
       "2  Eu só queria conseguir comer alguma coisa pra ...  positivo\n",
       "3                                 :D que lindo dia !  positivo\n",
       "4  @Primo_Resmungao Pq da pr jeito!!é uma \"oferta...  positivo"
      ]
     },
     "execution_count": 10,
     "metadata": {},
     "output_type": "execute_result"
    }
   ],
   "source": [
    "data = data.drop(columns=['id', 'tweet_date', 'query_used'])\n",
    "data = data.rename({'tweet_text': 'text', 'sentiment': 'target'}, axis=1)\n",
    "data['target'] = data['target'].apply(lowercase)\n",
    "data.head()"
   ]
  },
  {
   "cell_type": "code",
   "execution_count": 11,
   "id": "marine-brisbane",
   "metadata": {},
   "outputs": [
    {
     "name": "stdout",
     "output_type": "stream",
     "text": [
      "CPU times: user 89.4 ms, sys: 3.72 ms, total: 93.1 ms\n",
      "Wall time: 89.9 ms\n"
     ]
    },
    {
     "data": {
      "text/html": [
       "<div>\n",
       "<style scoped>\n",
       "    .dataframe tbody tr th:only-of-type {\n",
       "        vertical-align: middle;\n",
       "    }\n",
       "\n",
       "    .dataframe tbody tr th {\n",
       "        vertical-align: top;\n",
       "    }\n",
       "\n",
       "    .dataframe thead th {\n",
       "        text-align: right;\n",
       "    }\n",
       "</style>\n",
       "<table border=\"1\" class=\"dataframe\">\n",
       "  <thead>\n",
       "    <tr style=\"text-align: right;\">\n",
       "      <th></th>\n",
       "      <th>text</th>\n",
       "      <th>target</th>\n",
       "      <th>cleaned_text</th>\n",
       "    </tr>\n",
       "  </thead>\n",
       "  <tbody>\n",
       "    <tr>\n",
       "      <th>0</th>\n",
       "      <td>to morrendo de tanta vontade de assistir para ...</td>\n",
       "      <td>negativo</td>\n",
       "      <td>to morrendo tanta vontade assistir todos garot...</td>\n",
       "    </tr>\n",
       "    <tr>\n",
       "      <th>1</th>\n",
       "      <td>@sdRobertoJr é ossada né, fazer o que :(</td>\n",
       "      <td>negativo</td>\n",
       "      <td>ossada ne  fazer cara triste</td>\n",
       "    </tr>\n",
       "    <tr>\n",
       "      <th>2</th>\n",
       "      <td>@CELLZAS difícil nao escutar quando falam isso...</td>\n",
       "      <td>negativo</td>\n",
       "      <td>dificil nao escutar falam praticamente todo di...</td>\n",
       "    </tr>\n",
       "    <tr>\n",
       "      <th>3</th>\n",
       "      <td>pessoal eu tô vendendo esses livros aqui pra q...</td>\n",
       "      <td>positivo</td>\n",
       "      <td>pessoal to vendendo livros aqui pra apaixonado...</td>\n",
       "    </tr>\n",
       "    <tr>\n",
       "      <th>4</th>\n",
       "      <td>@_mandsborba vai me magoar nene :(</td>\n",
       "      <td>negativo</td>\n",
       "      <td>vai magoar nene cara triste</td>\n",
       "    </tr>\n",
       "    <tr>\n",
       "      <th>5</th>\n",
       "      <td>sdd n ta cabendo em mim :(</td>\n",
       "      <td>negativo</td>\n",
       "      <td>sdd n ta cabendo mim cara triste</td>\n",
       "    </tr>\n",
       "    <tr>\n",
       "      <th>6</th>\n",
       "      <td>@danibarrichello Obrigado! :)))))</td>\n",
       "      <td>positivo</td>\n",
       "      <td>obrigado  cara feliz</td>\n",
       "    </tr>\n",
       "    <tr>\n",
       "      <th>7</th>\n",
       "      <td>Até o meu cão dorme no meu quarto e eu não :)</td>\n",
       "      <td>positivo</td>\n",
       "      <td>cao dorme quarto cara feliz</td>\n",
       "    </tr>\n",
       "    <tr>\n",
       "      <th>8</th>\n",
       "      <td>@howcoldplay não não não eu amo mais :)</td>\n",
       "      <td>positivo</td>\n",
       "      <td>amo cara feliz</td>\n",
       "    </tr>\n",
       "    <tr>\n",
       "      <th>9</th>\n",
       "      <td>@xxxcheara Jiyong é um neném, ele precisa ser ...</td>\n",
       "      <td>negativo</td>\n",
       "      <td>jiyong nenem  precisa ser protegido atencao ca...</td>\n",
       "    </tr>\n",
       "  </tbody>\n",
       "</table>\n",
       "</div>"
      ],
      "text/plain": [
       "                                                text    target  \\\n",
       "0  to morrendo de tanta vontade de assistir para ...  negativo   \n",
       "1           @sdRobertoJr é ossada né, fazer o que :(  negativo   \n",
       "2  @CELLZAS difícil nao escutar quando falam isso...  negativo   \n",
       "3  pessoal eu tô vendendo esses livros aqui pra q...  positivo   \n",
       "4                 @_mandsborba vai me magoar nene :(  negativo   \n",
       "5                         sdd n ta cabendo em mim :(  negativo   \n",
       "6                  @danibarrichello Obrigado! :)))))  positivo   \n",
       "7      Até o meu cão dorme no meu quarto e eu não :)  positivo   \n",
       "8            @howcoldplay não não não eu amo mais :)  positivo   \n",
       "9  @xxxcheara Jiyong é um neném, ele precisa ser ...  negativo   \n",
       "\n",
       "                                        cleaned_text  \n",
       "0  to morrendo tanta vontade assistir todos garot...  \n",
       "1                       ossada ne  fazer cara triste  \n",
       "2  dificil nao escutar falam praticamente todo di...  \n",
       "3  pessoal to vendendo livros aqui pra apaixonado...  \n",
       "4                        vai magoar nene cara triste  \n",
       "5                   sdd n ta cabendo mim cara triste  \n",
       "6                               obrigado  cara feliz  \n",
       "7                        cao dorme quarto cara feliz  \n",
       "8                                     amo cara feliz  \n",
       "9  jiyong nenem  precisa ser protegido atencao ca...  "
      ]
     },
     "execution_count": 11,
     "metadata": {},
     "output_type": "execute_result"
    }
   ],
   "source": [
    "%%time\n",
    "data = data.sample(500)\n",
    "data = data.reset_index()\n",
    "data = data.drop(columns=['index'])\n",
    "data['cleaned_text'] = preprocessing(data['text'])\n",
    "data.drop_duplicates(inplace=True)\n",
    "data.dropna(inplace=True)\n",
    "data.head(10)"
   ]
  },
  {
   "cell_type": "code",
   "execution_count": 12,
   "id": "mechanical-charlotte",
   "metadata": {},
   "outputs": [
    {
     "data": {
      "text/plain": [
       "(500, 3)"
      ]
     },
     "execution_count": 12,
     "metadata": {},
     "output_type": "execute_result"
    }
   ],
   "source": [
    "data.shape"
   ]
  },
  {
   "cell_type": "code",
   "execution_count": 13,
   "id": "adopted-break",
   "metadata": {},
   "outputs": [
    {
     "name": "stdout",
     "output_type": "stream",
     "text": [
      "CPU times: user 125 ms, sys: 7.17 ms, total: 132 ms\n",
      "Wall time: 130 ms\n"
     ]
    }
   ],
   "source": [
    "%%time\n",
    "data['leia'] = data['cleaned_text'].apply(leia)"
   ]
  },
  {
   "cell_type": "code",
   "execution_count": 14,
   "id": "strong-intelligence",
   "metadata": {},
   "outputs": [
    {
     "name": "stdout",
     "output_type": "stream",
     "text": [
      "CPU times: user 5.89 s, sys: 286 ms, total: 6.17 s\n",
      "Wall time: 4min 2s\n"
     ]
    }
   ],
   "source": [
    "%%time\n",
    "#se usar o texto limpo a acurácia fica muito baixa\n",
    "#isso acontece por causa da api não conseguir direito para inglês\n",
    "data['textblob'] = data['text'].apply(textblob)"
   ]
  },
  {
   "cell_type": "code",
   "execution_count": 15,
   "id": "transparent-spokesman",
   "metadata": {},
   "outputs": [
    {
     "name": "stdout",
     "output_type": "stream",
     "text": [
      "CPU times: user 4.6 s, sys: 0 ns, total: 4.6 s\n",
      "Wall time: 4.62 s\n"
     ]
    }
   ],
   "source": [
    "%%time\n",
    "data['oplexion'] = data['cleaned_text'].apply(oplexion)"
   ]
  },
  {
   "cell_type": "code",
   "execution_count": 16,
   "id": "sized-nicaragua",
   "metadata": {},
   "outputs": [
    {
     "name": "stdout",
     "output_type": "stream",
     "text": [
      "CPU times: user 4.36 s, sys: 0 ns, total: 4.36 s\n",
      "Wall time: 4.37 s\n"
     ]
    }
   ],
   "source": [
    "%%time\n",
    "data['sentilex'] = data['cleaned_text'].apply(sentilex)"
   ]
  },
  {
   "cell_type": "code",
   "execution_count": 17,
   "id": "extensive-completion",
   "metadata": {},
   "outputs": [
    {
     "name": "stdout",
     "output_type": "stream",
     "text": [
      "LeIA: 0.916\n",
      "TextBlob: 0.996\n",
      "OpLexion: 0.898\n",
      "SentiLex: 0.914\n"
     ]
    }
   ],
   "source": [
    "print(\"LeIA: \" + str(accuracy_score(data['target'], data['leia'])))\n",
    "print(\"TextBlob: \" + str(accuracy_score(data['target'], data['textblob'])))\n",
    "print(\"OpLexion: \" + str(accuracy_score(data['target'], data['oplexion'])))\n",
    "print(\"SentiLex: \" + str(accuracy_score(data['target'], data['sentilex'])))"
   ]
  },
  {
   "cell_type": "code",
   "execution_count": 18,
   "id": "aggregate-technique",
   "metadata": {},
   "outputs": [
    {
     "data": {
      "text/html": [
       "<div>\n",
       "<style scoped>\n",
       "    .dataframe tbody tr th:only-of-type {\n",
       "        vertical-align: middle;\n",
       "    }\n",
       "\n",
       "    .dataframe tbody tr th {\n",
       "        vertical-align: top;\n",
       "    }\n",
       "\n",
       "    .dataframe thead th {\n",
       "        text-align: right;\n",
       "    }\n",
       "</style>\n",
       "<table border=\"1\" class=\"dataframe\">\n",
       "  <thead>\n",
       "    <tr style=\"text-align: right;\">\n",
       "      <th></th>\n",
       "      <th>text</th>\n",
       "      <th>target</th>\n",
       "      <th>cleaned_text</th>\n",
       "      <th>leia</th>\n",
       "      <th>textblob</th>\n",
       "      <th>oplexion</th>\n",
       "      <th>sentilex</th>\n",
       "    </tr>\n",
       "  </thead>\n",
       "  <tbody>\n",
       "    <tr>\n",
       "      <th>0</th>\n",
       "      <td>to morrendo de tanta vontade de assistir para ...</td>\n",
       "      <td>negativo</td>\n",
       "      <td>to morrendo tanta vontade assistir todos garot...</td>\n",
       "      <td>negativo</td>\n",
       "      <td>negativo</td>\n",
       "      <td>positivo</td>\n",
       "      <td>positivo</td>\n",
       "    </tr>\n",
       "    <tr>\n",
       "      <th>1</th>\n",
       "      <td>@sdRobertoJr é ossada né, fazer o que :(</td>\n",
       "      <td>negativo</td>\n",
       "      <td>ossada ne  fazer cara triste</td>\n",
       "      <td>negativo</td>\n",
       "      <td>negativo</td>\n",
       "      <td>negativo</td>\n",
       "      <td>negativo</td>\n",
       "    </tr>\n",
       "    <tr>\n",
       "      <th>2</th>\n",
       "      <td>@CELLZAS difícil nao escutar quando falam isso...</td>\n",
       "      <td>negativo</td>\n",
       "      <td>dificil nao escutar falam praticamente todo di...</td>\n",
       "      <td>negativo</td>\n",
       "      <td>negativo</td>\n",
       "      <td>negativo</td>\n",
       "      <td>negativo</td>\n",
       "    </tr>\n",
       "    <tr>\n",
       "      <th>3</th>\n",
       "      <td>pessoal eu tô vendendo esses livros aqui pra q...</td>\n",
       "      <td>positivo</td>\n",
       "      <td>pessoal to vendendo livros aqui pra apaixonado...</td>\n",
       "      <td>positivo</td>\n",
       "      <td>positivo</td>\n",
       "      <td>positivo</td>\n",
       "      <td>positivo</td>\n",
       "    </tr>\n",
       "    <tr>\n",
       "      <th>4</th>\n",
       "      <td>@_mandsborba vai me magoar nene :(</td>\n",
       "      <td>negativo</td>\n",
       "      <td>vai magoar nene cara triste</td>\n",
       "      <td>negativo</td>\n",
       "      <td>negativo</td>\n",
       "      <td>negativo</td>\n",
       "      <td>negativo</td>\n",
       "    </tr>\n",
       "    <tr>\n",
       "      <th>5</th>\n",
       "      <td>sdd n ta cabendo em mim :(</td>\n",
       "      <td>negativo</td>\n",
       "      <td>sdd n ta cabendo mim cara triste</td>\n",
       "      <td>negativo</td>\n",
       "      <td>negativo</td>\n",
       "      <td>negativo</td>\n",
       "      <td>negativo</td>\n",
       "    </tr>\n",
       "    <tr>\n",
       "      <th>6</th>\n",
       "      <td>@danibarrichello Obrigado! :)))))</td>\n",
       "      <td>positivo</td>\n",
       "      <td>obrigado  cara feliz</td>\n",
       "      <td>positivo</td>\n",
       "      <td>positivo</td>\n",
       "      <td>neutro</td>\n",
       "      <td>positivo</td>\n",
       "    </tr>\n",
       "    <tr>\n",
       "      <th>7</th>\n",
       "      <td>Até o meu cão dorme no meu quarto e eu não :)</td>\n",
       "      <td>positivo</td>\n",
       "      <td>cao dorme quarto cara feliz</td>\n",
       "      <td>positivo</td>\n",
       "      <td>positivo</td>\n",
       "      <td>positivo</td>\n",
       "      <td>positivo</td>\n",
       "    </tr>\n",
       "    <tr>\n",
       "      <th>8</th>\n",
       "      <td>@howcoldplay não não não eu amo mais :)</td>\n",
       "      <td>positivo</td>\n",
       "      <td>amo cara feliz</td>\n",
       "      <td>positivo</td>\n",
       "      <td>positivo</td>\n",
       "      <td>positivo</td>\n",
       "      <td>positivo</td>\n",
       "    </tr>\n",
       "    <tr>\n",
       "      <th>9</th>\n",
       "      <td>@xxxcheara Jiyong é um neném, ele precisa ser ...</td>\n",
       "      <td>negativo</td>\n",
       "      <td>jiyong nenem  precisa ser protegido atencao ca...</td>\n",
       "      <td>negativo</td>\n",
       "      <td>negativo</td>\n",
       "      <td>negativo</td>\n",
       "      <td>negativo</td>\n",
       "    </tr>\n",
       "  </tbody>\n",
       "</table>\n",
       "</div>"
      ],
      "text/plain": [
       "                                                text    target  \\\n",
       "0  to morrendo de tanta vontade de assistir para ...  negativo   \n",
       "1           @sdRobertoJr é ossada né, fazer o que :(  negativo   \n",
       "2  @CELLZAS difícil nao escutar quando falam isso...  negativo   \n",
       "3  pessoal eu tô vendendo esses livros aqui pra q...  positivo   \n",
       "4                 @_mandsborba vai me magoar nene :(  negativo   \n",
       "5                         sdd n ta cabendo em mim :(  negativo   \n",
       "6                  @danibarrichello Obrigado! :)))))  positivo   \n",
       "7      Até o meu cão dorme no meu quarto e eu não :)  positivo   \n",
       "8            @howcoldplay não não não eu amo mais :)  positivo   \n",
       "9  @xxxcheara Jiyong é um neném, ele precisa ser ...  negativo   \n",
       "\n",
       "                                        cleaned_text      leia  textblob  \\\n",
       "0  to morrendo tanta vontade assistir todos garot...  negativo  negativo   \n",
       "1                       ossada ne  fazer cara triste  negativo  negativo   \n",
       "2  dificil nao escutar falam praticamente todo di...  negativo  negativo   \n",
       "3  pessoal to vendendo livros aqui pra apaixonado...  positivo  positivo   \n",
       "4                        vai magoar nene cara triste  negativo  negativo   \n",
       "5                   sdd n ta cabendo mim cara triste  negativo  negativo   \n",
       "6                               obrigado  cara feliz  positivo  positivo   \n",
       "7                        cao dorme quarto cara feliz  positivo  positivo   \n",
       "8                                     amo cara feliz  positivo  positivo   \n",
       "9  jiyong nenem  precisa ser protegido atencao ca...  negativo  negativo   \n",
       "\n",
       "   oplexion  sentilex  \n",
       "0  positivo  positivo  \n",
       "1  negativo  negativo  \n",
       "2  negativo  negativo  \n",
       "3  positivo  positivo  \n",
       "4  negativo  negativo  \n",
       "5  negativo  negativo  \n",
       "6    neutro  positivo  \n",
       "7  positivo  positivo  \n",
       "8  positivo  positivo  \n",
       "9  negativo  negativo  "
      ]
     },
     "execution_count": 18,
     "metadata": {},
     "output_type": "execute_result"
    }
   ],
   "source": [
    "data.head(10)"
   ]
  }
 ],
 "metadata": {
  "kernelspec": {
   "display_name": "Python 3 (ipykernel)",
   "language": "python",
   "name": "python3"
  },
  "language_info": {
   "codemirror_mode": {
    "name": "ipython",
    "version": 3
   },
   "file_extension": ".py",
   "mimetype": "text/x-python",
   "name": "python",
   "nbconvert_exporter": "python",
   "pygments_lexer": "ipython3",
   "version": "3.8.10"
  }
 },
 "nbformat": 4,
 "nbformat_minor": 5
}
